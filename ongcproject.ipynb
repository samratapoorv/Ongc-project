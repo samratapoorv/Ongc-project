{
  "nbformat": 4,
  "nbformat_minor": 0,
  "metadata": {
    "colab": {
      "provenance": [],
      "include_colab_link": true
    },
    "kernelspec": {
      "name": "python3",
      "display_name": "Python 3"
    },
    "language_info": {
      "name": "python"
    }
  },
  "cells": [
    {
      "cell_type": "markdown",
      "metadata": {
        "id": "view-in-github",
        "colab_type": "text"
      },
      "source": [
        "<a href=\"https://colab.research.google.com/github/samratapoorv/Ongc-project/blob/main/ongcproject.ipynb\" target=\"_parent\"><img src=\"https://colab.research.google.com/assets/colab-badge.svg\" alt=\"Open In Colab\"/></a>"
      ]
    },
    {
      "cell_type": "code",
      "execution_count": null,
      "metadata": {
        "id": "CryFyJtX_n2_",
        "colab": {
          "base_uri": "https://localhost:8080/"
        },
        "outputId": "ec59c59b-4ace-477e-a8d9-ce9f0d6729dd"
      },
      "outputs": [
        {
          "output_type": "stream",
          "name": "stdout",
          "text": [
            "Collecting PyMuPDF\n",
            "  Downloading PyMuPDF-1.24.7-cp310-none-manylinux2014_x86_64.whl (3.5 MB)\n",
            "\u001b[2K     \u001b[90m━━━━━━━━━━━━━━━━━━━━━━━━━━━━━━━━━━━━━━━━\u001b[0m \u001b[32m3.5/3.5 MB\u001b[0m \u001b[31m12.0 MB/s\u001b[0m eta \u001b[36m0:00:00\u001b[0m\n",
            "\u001b[?25hCollecting PyMuPDFb==1.24.6 (from PyMuPDF)\n",
            "  Downloading PyMuPDFb-1.24.6-py3-none-manylinux2014_x86_64.manylinux_2_17_x86_64.whl (15.7 MB)\n",
            "\u001b[2K     \u001b[90m━━━━━━━━━━━━━━━━━━━━━━━━━━━━━━━━━━━━━━━━\u001b[0m \u001b[32m15.7/15.7 MB\u001b[0m \u001b[31m18.9 MB/s\u001b[0m eta \u001b[36m0:00:00\u001b[0m\n",
            "\u001b[?25hInstalling collected packages: PyMuPDFb, PyMuPDF\n",
            "Successfully installed PyMuPDF-1.24.7 PyMuPDFb-1.24.6\n"
          ]
        }
      ],
      "source": [
        "pip install PyMuPDF"
      ]
    },
    {
      "cell_type": "code",
      "source": [
        "import fitz  # PyMuPDF\n",
        "import os\n",
        "import re\n",
        "import shutil\n",
        "import zipfile\n",
        "import spacy"
      ],
      "metadata": {
        "id": "CHJmRmIt_qqX"
      },
      "execution_count": null,
      "outputs": []
    },
    {
      "cell_type": "code",
      "source": [
        "# Define the keywords to look for\n",
        "keywords = [\n",
        "    \"Location\", \"Geological\", \"Structure\", \"Seismic Lines\",\n",
        "    \"Log motif\", \"Well construction diagram\", \"drilling\",\n",
        "    \"Geotechnical order\", \"Stratigraphy and casing plot\",\n",
        "    \"Remote sensing image\", \"Contour\", \"Structure Contour map\",\n",
        "]\n"
      ],
      "metadata": {
        "id": "dQXiNFNH_5O2"
      },
      "execution_count": null,
      "outputs": []
    },
    {
      "cell_type": "code",
      "source": [
        "# Create folders for each keyword\n",
        "for keyword in keywords:\n",
        "    os.makedirs(keyword, exist_ok=True)"
      ],
      "metadata": {
        "id": "ar9swke4AYOu"
      },
      "execution_count": null,
      "outputs": []
    },
    {
      "cell_type": "code",
      "source": [
        "# Function to clean and normalize text\n",
        "def clean_text(text):\n",
        "    text = re.sub(r'\\s+', ' ', text)\n",
        "    return text.strip().lower()"
      ],
      "metadata": {
        "id": "Kk4aU8VQAaEh"
      },
      "execution_count": null,
      "outputs": []
    },
    {
      "cell_type": "code",
      "source": [
        "# Load spaCy model\n",
        "nlp = spacy.load(\"en_core_web_sm\")"
      ],
      "metadata": {
        "id": "OKlK01SqAcfV"
      },
      "execution_count": null,
      "outputs": []
    },
    {
      "cell_type": "code",
      "source": [
        "# Function to categorize text using spaCy\n",
        "def categorize_text_advanced(text):\n",
        "    text = clean_text(text)\n",
        "    doc = nlp(text)\n",
        "    for keyword in keywords:\n",
        "        if any(keyword.lower() in token.text.lower() for token in doc):\n",
        "            return keyword\n",
        "    return None"
      ],
      "metadata": {
        "id": "En2TM8DiAhh4"
      },
      "execution_count": null,
      "outputs": []
    },
    {
      "cell_type": "code",
      "source": [
        "# Open the PDF file\n",
        "pdf_document = fitz.open(\"/content/well_student.pdf\")"
      ],
      "metadata": {
        "id": "nh9qTnmZAobp"
      },
      "execution_count": null,
      "outputs": []
    },
    {
      "cell_type": "code",
      "source": [
        "# Define size criteria (in bytes)\n",
        "size_threshold = 100 * 1024  # Example size threshold: 100KB"
      ],
      "metadata": {
        "id": "6WVLetlUAsFn"
      },
      "execution_count": null,
      "outputs": []
    },
    {
      "cell_type": "code",
      "source": [
        "for page_num in range(len(pdf_document)):\n",
        "    page = pdf_document.load_page(page_num)\n",
        "    images = page.get_images(full=True)\n",
        "\n",
        "    # Extract text from the page\n",
        "    text = page.get_text(\"text\")\n",
        "\n",
        "    for img_index, img in enumerate(images):\n",
        "        xref = img[0]\n",
        "        base_image = pdf_document.extract_image(xref)\n",
        "        image_bytes = base_image[\"image\"]\n",
        "\n",
        "        # Check if the image size meets the criteria\n",
        "        if len(image_bytes) >= size_threshold:\n",
        "            # Categorize the image based on the surrounding text\n",
        "            category = categorize_text_advanced(text)\n",
        "            if category:\n",
        "                image_filename = f\"{category}/page_{page_num + 1}_image_{img_index + 1}.png\"\n",
        "                with open(image_filename, \"wb\") as img_file:\n",
        "                    img_file.write(image_bytes)\n",
        "            else:\n",
        "                # If no category found, put in 'Uncategorized' folder\n",
        "                os.makedirs(\"Uncategorized\", exist_ok=True)\n",
        "                image_filename = f\"Uncategorized/page_{page_num + 1}_image_{img_index + 1}.png\"\n",
        "                with open(image_filename, \"wb\") as img_file:\n",
        "                    img_file.write(image_bytes)"
      ],
      "metadata": {
        "id": "bmNothSUAwpk"
      },
      "execution_count": null,
      "outputs": []
    },
    {
      "cell_type": "code",
      "source": [
        "# Zip each folder\n",
        "def zip_folder(folder_name):\n",
        "    shutil.make_archive(folder_name, 'zip', folder_name)\n",
        "\n",
        "for keyword in keywords:\n",
        "    zip_folder(keyword)\n",
        "\n",
        "zip_folder(\"Uncategorized\")\n",
        "\n",
        "# Output the path of the zip files for downloading\n",
        "zipped_files = [f\"{keyword}.zip\" for keyword in keywords] + [\"Uncategorized.zip\"]\n",
        "print(zipped_files)"
      ],
      "metadata": {
        "id": "OybH-btdBQZD"
      },
      "execution_count": null,
      "outputs": []
    }
  ]
}